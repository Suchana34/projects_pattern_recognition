{
  "nbformat": 4,
  "nbformat_minor": 0,
  "metadata": {
    "colab": {
      "name": "resume_classification.ipynb",
      "provenance": [],
      "collapsed_sections": []
    },
    "kernelspec": {
      "display_name": "Python 3",
      "name": "python3"
    },
    "language_info": {
      "name": "python"
    }
  },
  "cells": [
    {
      "cell_type": "code",
      "metadata": {
        "colab": {
          "background_save": true
        },
        "id": "rYcS9_RBYSzM"
      },
      "source": [
        "# Run this cell and upload the downloaded dataset(\"resume_dataset2.csv\") or custom one\n",
        "# in every session or just run the below cell for just the Kaggle Dataset\n",
        "\n",
        "from google.colab import files\n",
        "files.upload()"
      ],
      "execution_count": null,
      "outputs": []
    },
    {
      "cell_type": "code",
      "metadata": {
        "id": "BqvpbTQ1fV78"
      },
      "source": [
        "# Downloading the csv file(The Kaggle one) from a link to use it\n",
        "\n",
        "import requests\n",
        "file_url = \"https://drive.google.com/uc?id=1p-mqOCwescBeCctMMf9GJusBINjsXJRA&export=download\"\n",
        "req = requests.get(file_url)\n",
        "csv_file = open('resume_dataset2.csv', 'wb')\n",
        "csv_file.write(req.content)\n",
        "csv_file.close()"
      ],
      "execution_count": null,
      "outputs": []
    },
    {
      "cell_type": "code",
      "metadata": {
        "id": "cOvgDcYDQ9Ta"
      },
      "source": [
        "# Necessary Imports, not importing models (will be done later if required)\n",
        "\n",
        "import numpy as np\n",
        "import pandas as pd\n",
        "import matplotlib.pyplot as plt\n",
        "from sklearn.model_selection import train_test_split"
      ],
      "execution_count": null,
      "outputs": []
    },
    {
      "cell_type": "code",
      "metadata": {
        "colab": {
          "base_uri": "https://localhost:8080/"
        },
        "id": "YxCcvnCiQ9fX",
        "outputId": "b0b5ec23-d2a4-400f-cb0d-92754022a44e"
      },
      "source": [
        "# Creating DataFrame and checking out first 5 and last 5 values\n",
        "\n",
        "df = pd.read_csv(\"resume_dataset2.csv\")\n",
        "print(df.head())\n",
        "print(df.tail())"
      ],
      "execution_count": null,
      "outputs": [
        {
          "output_type": "stream",
          "text": [
            "       Category                                             Resume\n",
            "0  Data Science  Skills * Programming Languages: Python (pandas...\n",
            "1  Data Science  Education Details \\r\\nMay 2013 to May 2017 B.E...\n",
            "2  Data Science  Areas of Interest Deep Learning, Control Syste...\n",
            "3  Data Science  Skills â¢ R â¢ Python â¢ SAP HANA â¢ Table...\n",
            "4  Data Science  Education Details \\r\\n MCA   YMCAUST,  Faridab...\n",
            "    Category                                             Resume\n",
            "957  Testing  Computer Skills: â¢ Proficient in MS office (...\n",
            "958  Testing  â Willingness to accept the challenges. â ...\n",
            "959  Testing  PERSONAL SKILLS â¢ Quick learner, â¢ Eagerne...\n",
            "960  Testing  COMPUTER SKILLS & SOFTWARE KNOWLEDGE MS-Power ...\n",
            "961  Testing  Skill Set OS Windows XP/7/8/8.1/10 Database MY...\n"
          ],
          "name": "stdout"
        }
      ]
    },
    {
      "cell_type": "code",
      "metadata": {
        "colab": {
          "base_uri": "https://localhost:8080/",
          "height": 1000
        },
        "id": "TxyaBOYgQ9rV",
        "outputId": "09452eb0-f7d3-47a1-df50-b948c78af095"
      },
      "source": [
        "# Let's check how many resumes are there in each category of job roles\n",
        "display(df.groupby('Category').count())\n",
        "\n",
        "# Checking for null values\n",
        "display(df[df.isnull().any(axis=1)])\n",
        "\n",
        "# Summary of the dataset\n",
        "df.describe()"
      ],
      "execution_count": null,
      "outputs": [
        {
          "output_type": "display_data",
          "data": {
            "text/html": [
              "<div>\n",
              "<style scoped>\n",
              "    .dataframe tbody tr th:only-of-type {\n",
              "        vertical-align: middle;\n",
              "    }\n",
              "\n",
              "    .dataframe tbody tr th {\n",
              "        vertical-align: top;\n",
              "    }\n",
              "\n",
              "    .dataframe thead th {\n",
              "        text-align: right;\n",
              "    }\n",
              "</style>\n",
              "<table border=\"1\" class=\"dataframe\">\n",
              "  <thead>\n",
              "    <tr style=\"text-align: right;\">\n",
              "      <th></th>\n",
              "      <th>Resume</th>\n",
              "    </tr>\n",
              "    <tr>\n",
              "      <th>Category</th>\n",
              "      <th></th>\n",
              "    </tr>\n",
              "  </thead>\n",
              "  <tbody>\n",
              "    <tr>\n",
              "      <th>Advocate</th>\n",
              "      <td>20</td>\n",
              "    </tr>\n",
              "    <tr>\n",
              "      <th>Arts</th>\n",
              "      <td>36</td>\n",
              "    </tr>\n",
              "    <tr>\n",
              "      <th>Automation Testing</th>\n",
              "      <td>26</td>\n",
              "    </tr>\n",
              "    <tr>\n",
              "      <th>Blockchain</th>\n",
              "      <td>40</td>\n",
              "    </tr>\n",
              "    <tr>\n",
              "      <th>Business Analyst</th>\n",
              "      <td>28</td>\n",
              "    </tr>\n",
              "    <tr>\n",
              "      <th>Civil Engineer</th>\n",
              "      <td>24</td>\n",
              "    </tr>\n",
              "    <tr>\n",
              "      <th>Data Science</th>\n",
              "      <td>40</td>\n",
              "    </tr>\n",
              "    <tr>\n",
              "      <th>Database</th>\n",
              "      <td>33</td>\n",
              "    </tr>\n",
              "    <tr>\n",
              "      <th>DevOps Engineer</th>\n",
              "      <td>55</td>\n",
              "    </tr>\n",
              "    <tr>\n",
              "      <th>DotNet Developer</th>\n",
              "      <td>28</td>\n",
              "    </tr>\n",
              "    <tr>\n",
              "      <th>ETL Developer</th>\n",
              "      <td>40</td>\n",
              "    </tr>\n",
              "    <tr>\n",
              "      <th>Electrical Engineering</th>\n",
              "      <td>30</td>\n",
              "    </tr>\n",
              "    <tr>\n",
              "      <th>HR</th>\n",
              "      <td>44</td>\n",
              "    </tr>\n",
              "    <tr>\n",
              "      <th>Hadoop</th>\n",
              "      <td>42</td>\n",
              "    </tr>\n",
              "    <tr>\n",
              "      <th>Health and fitness</th>\n",
              "      <td>30</td>\n",
              "    </tr>\n",
              "    <tr>\n",
              "      <th>Java Developer</th>\n",
              "      <td>84</td>\n",
              "    </tr>\n",
              "    <tr>\n",
              "      <th>Mechanical Engineer</th>\n",
              "      <td>40</td>\n",
              "    </tr>\n",
              "    <tr>\n",
              "      <th>Network Security Engineer</th>\n",
              "      <td>25</td>\n",
              "    </tr>\n",
              "    <tr>\n",
              "      <th>Operations Manager</th>\n",
              "      <td>40</td>\n",
              "    </tr>\n",
              "    <tr>\n",
              "      <th>PMO</th>\n",
              "      <td>30</td>\n",
              "    </tr>\n",
              "    <tr>\n",
              "      <th>Python Developer</th>\n",
              "      <td>48</td>\n",
              "    </tr>\n",
              "    <tr>\n",
              "      <th>SAP Developer</th>\n",
              "      <td>24</td>\n",
              "    </tr>\n",
              "    <tr>\n",
              "      <th>Sales</th>\n",
              "      <td>40</td>\n",
              "    </tr>\n",
              "    <tr>\n",
              "      <th>Testing</th>\n",
              "      <td>70</td>\n",
              "    </tr>\n",
              "    <tr>\n",
              "      <th>Web Designing</th>\n",
              "      <td>45</td>\n",
              "    </tr>\n",
              "  </tbody>\n",
              "</table>\n",
              "</div>"
            ],
            "text/plain": [
              "                           Resume\n",
              "Category                         \n",
              "Advocate                       20\n",
              "Arts                           36\n",
              "Automation Testing             26\n",
              "Blockchain                     40\n",
              "Business Analyst               28\n",
              "Civil Engineer                 24\n",
              "Data Science                   40\n",
              "Database                       33\n",
              "DevOps Engineer                55\n",
              "DotNet Developer               28\n",
              "ETL Developer                  40\n",
              "Electrical Engineering         30\n",
              "HR                             44\n",
              "Hadoop                         42\n",
              "Health and fitness             30\n",
              "Java Developer                 84\n",
              "Mechanical Engineer            40\n",
              "Network Security Engineer      25\n",
              "Operations Manager             40\n",
              "PMO                            30\n",
              "Python Developer               48\n",
              "SAP Developer                  24\n",
              "Sales                          40\n",
              "Testing                        70\n",
              "Web Designing                  45"
            ]
          },
          "metadata": {
            "tags": []
          }
        },
        {
          "output_type": "display_data",
          "data": {
            "text/html": [
              "<div>\n",
              "<style scoped>\n",
              "    .dataframe tbody tr th:only-of-type {\n",
              "        vertical-align: middle;\n",
              "    }\n",
              "\n",
              "    .dataframe tbody tr th {\n",
              "        vertical-align: top;\n",
              "    }\n",
              "\n",
              "    .dataframe thead th {\n",
              "        text-align: right;\n",
              "    }\n",
              "</style>\n",
              "<table border=\"1\" class=\"dataframe\">\n",
              "  <thead>\n",
              "    <tr style=\"text-align: right;\">\n",
              "      <th></th>\n",
              "      <th>Category</th>\n",
              "      <th>Resume</th>\n",
              "    </tr>\n",
              "  </thead>\n",
              "  <tbody>\n",
              "  </tbody>\n",
              "</table>\n",
              "</div>"
            ],
            "text/plain": [
              "Empty DataFrame\n",
              "Columns: [Category, Resume]\n",
              "Index: []"
            ]
          },
          "metadata": {
            "tags": []
          }
        },
        {
          "output_type": "execute_result",
          "data": {
            "text/html": [
              "<div>\n",
              "<style scoped>\n",
              "    .dataframe tbody tr th:only-of-type {\n",
              "        vertical-align: middle;\n",
              "    }\n",
              "\n",
              "    .dataframe tbody tr th {\n",
              "        vertical-align: top;\n",
              "    }\n",
              "\n",
              "    .dataframe thead th {\n",
              "        text-align: right;\n",
              "    }\n",
              "</style>\n",
              "<table border=\"1\" class=\"dataframe\">\n",
              "  <thead>\n",
              "    <tr style=\"text-align: right;\">\n",
              "      <th></th>\n",
              "      <th>Category</th>\n",
              "      <th>Resume</th>\n",
              "    </tr>\n",
              "  </thead>\n",
              "  <tbody>\n",
              "    <tr>\n",
              "      <th>count</th>\n",
              "      <td>962</td>\n",
              "      <td>962</td>\n",
              "    </tr>\n",
              "    <tr>\n",
              "      <th>unique</th>\n",
              "      <td>25</td>\n",
              "      <td>166</td>\n",
              "    </tr>\n",
              "    <tr>\n",
              "      <th>top</th>\n",
              "      <td>Java Developer</td>\n",
              "      <td>Technical Skills Web Technologies: Angular JS,...</td>\n",
              "    </tr>\n",
              "    <tr>\n",
              "      <th>freq</th>\n",
              "      <td>84</td>\n",
              "      <td>18</td>\n",
              "    </tr>\n",
              "  </tbody>\n",
              "</table>\n",
              "</div>"
            ],
            "text/plain": [
              "              Category                                             Resume\n",
              "count              962                                                962\n",
              "unique              25                                                166\n",
              "top     Java Developer  Technical Skills Web Technologies: Angular JS,...\n",
              "freq                84                                                 18"
            ]
          },
          "metadata": {
            "tags": []
          },
          "execution_count": 5
        }
      ]
    },
    {
      "cell_type": "code",
      "metadata": {
        "colab": {
          "base_uri": "https://localhost:8080/"
        },
        "id": "3U6zGMWfgDbC",
        "outputId": "ebdb88d3-43f9-46ac-947d-f652c611937a"
      },
      "source": [
        "# Some Data Cleaning, before model making.\n",
        "import re\n",
        "def cleanResume(resumeText):\n",
        "    resumeText = re.sub('http\\S+\\s*', ' ', resumeText)  # remove URLs\n",
        "    resumeText = re.sub('RT|cc', ' ', resumeText)  # remove RT and cc\n",
        "    resumeText = re.sub('#\\S+', '', resumeText)  # remove hashtags\n",
        "    resumeText = re.sub('@\\S+', '  ', resumeText)  # remove mentions\n",
        "    resumeText = re.sub('[%s]' % re.escape(\"\"\"!\"#$%&'()*+,-./:;<=>?@[\\]^_`{|}~\"\"\"), ' ', resumeText)  # remove punctuations\n",
        "    resumeText = re.sub(r'[^\\x00-\\x7f]',r' ', resumeText) \n",
        "    resumeText = re.sub('\\s+', ' ', resumeText)  # remove extra whitespace\n",
        "    return resumeText\n",
        "\n",
        "df['resume_clean'] = df.Resume.apply(lambda x: cleanResume(x))\n",
        "print(df.resume_clean[10])"
      ],
      "execution_count": null,
      "outputs": [
        {
          "output_type": "stream",
          "text": [
            "Skills Programming Languages Python pandas numpy scipy scikit learn matplotlib Sql Java JavaScript JQuery Machine learning Regression SVM Na ve Bayes KNN Random Forest Decision Trees Boosting techniques Cluster Analysis Word Embedding Sentiment Analysis Natural Language processing Dimensionality reduction Topic Modelling LDA NMF PCA Neural Nets Database Visualizations Mysql SqlServer Cassandra Hbase ElasticSearch D3 js DC js Plotly kibana matplotlib ggplot Tableau Others Regular Expression HTML CSS Angular 6 Logstash Kafka Python Flask Git Docker computer vision Open CV and understanding of Deep learning Education Details Data Science Assurance Associate Data Science Assurance Associate Ernst Young LLP Skill Details JAVASCRIPT Exprience 24 months jQuery Exprience 24 months Python Exprience 24 monthsCompany Details company Ernst Young LLP description Fraud Investigations and Dispute Services Assurance TECHNOLOGY ASSISTED REVIEW TAR Technology Assisted Review assists in a elerating the review process and run analytics and generate reports Core member of a team helped in developing automated review platform tool from scratch for assisting E discovery domain this tool implements predictive coding and topic modelling by automating reviews resulting in reduced labor costs and time spent during the lawyers review Understand the end to end flow of the solution doing research and development for classification models predictive analysis and mining of the information present in text data Worked on analyzing the outputs and precision monitoring for the entire tool TAR assists in predictive coding topic modelling from the evidence by following EY standards Developed the classifier models in order to identify red flags and fraud related issues Tools Technologies Python scikit learn tfidf word2vec doc2vec cosine similarity Na ve Bayes LDA NMF for topic modelling Vader and text blob for sentiment analysis Matplot lib Tableau dashboard for reporting MULTIPLE DATA SCIENCE AND ANALYTIC PROJECTS USA CLIENTS TEXT ANALYTICS MOTOR VEHICLE CUSTOMER REVIEW DATA Received customer feedback survey data for past one year Performed sentiment Positive Negative Neutral and time series analysis on customer comments across all 4 categories Created heat map of terms by survey category based on frequency of words Extracted Positive and Negative words across all the Survey categories and plotted Word cloud Created customized tableau dashboards for effective reporting and visualizations CHATBOT Developed a user friendly chatbot for one of our Products which handle simple questions about hours of operation reservation options and so on This chat bot serves entire product related questions Giving overview of tool via QA platform and also give recommendation responses so that user question to build chain of relevant answer This too has intelligence to build the pipeline of questions as per user requirement and asks the relevant recommended questions Tools Technologies Python Natural language processing NLTK spacy topic modelling Sentiment analysis Word Embedding scikit learn JavaScript JQuery SqlServer INFORMATION GOVERNANCE Organizations to make informed decisions about all of the information they store The integrated Information Governance portfolio synthesizes intelligence across unstructured data sources and facilitates action to ensure organizations are best positioned to counter information risk Scan data from multiple sources of formats and parse different file formats extract Meta data information push results for indexing elastic search and created customized interactive dashboards using kibana Preforming ROT Analysis on the data which give information of data which helps identify content that is either Redundant Outdated or Trivial Preforming full text search analysis on elastic search with predefined methods which can tag as PII personally identifiable information social security numbers addresses names etc which frequently targeted during cyber attacks Tools Technologies Python Flask Elastic Search Kibana FRAUD ANALYTIC PLATFORM Fraud Analytics and investigative platform to review all red flag cases FAP is a Fraud Analytics and investigative platform with inbuilt case manager and suite of Analytics for various ERP systems It can be used by clients to interrogate their A ounting systems for identifying the anomalies which can be indicators of fraud by running advanced analytics Tools Technologies HTML JavaScript SqlServer JQuery CSS Bootstrap Node js D3 js DC js\n"
          ],
          "name": "stdout"
        }
      ]
    },
    {
      "cell_type": "code",
      "metadata": {
        "id": "fzXhtfD1Zp85"
      },
      "source": [
        "from sklearn.feature_extraction.text import TfidfVectorizer\n",
        "from sklearn.naive_bayes import MultinomialNB\n",
        "from sklearn.metrics import classification_report, accuracy_score"
      ],
      "execution_count": null,
      "outputs": []
    },
    {
      "cell_type": "code",
      "metadata": {
        "id": "dlS6WAQTKkKY"
      },
      "source": [
        "def naive_bayes_label_encoding(dataframe, test_size=0.2, max_features=100):\n",
        "\n",
        "  # Label encoding\n",
        "  df = dataframe.copy()\n",
        "  df['Category'] = df['Category'].astype('category')\n",
        "  df['Category_encoded'] = df['Category'].cat.codes\n",
        "  print(\"After Label Encoding: \")\n",
        "  #display(df.head())\n",
        "\n",
        "  # Spliting the dataframe in trainning and testing set\n",
        "  X_train, X_test, Y_train, Y_test = train_test_split(df['Resume'], df['Category_encoded'], test_size=test_size)\n",
        "\n",
        "  # Initializing the Tfidf Vectorizer and fitting the training data\n",
        "  vectorizer = TfidfVectorizer(stop_words='english', max_features=max_features)\n",
        "  vectorizer.fit(X_train)\n",
        "\n",
        "  # Initializing the Naive Bayes Model\n",
        "  cls = MultinomialNB()\n",
        "  cls.fit(vectorizer.transform(X_train), Y_train)\n",
        "\n",
        "  # Measuring the Accuracy\n",
        "  y_pred = cls.predict(vectorizer.transform(X_test))\n",
        "  accuracy = accuracy_score(Y_test, y_pred)\n",
        "  print(\"Accuracy: %.3f\"%accuracy)\n",
        "  print(classification_report(Y_test, y_pred, zero_division=0))\n",
        "  return accuracy"
      ],
      "execution_count": null,
      "outputs": []
    },
    {
      "cell_type": "code",
      "metadata": {
        "colab": {
          "base_uri": "https://localhost:8080/"
        },
        "id": "X7TSl8IKZvAG",
        "outputId": "f64660af-e063-4c2e-d167-cdcbc739349f"
      },
      "source": [
        "naive_bayes_label_encoding(df)"
      ],
      "execution_count": null,
      "outputs": [
        {
          "output_type": "stream",
          "text": [
            "After Label Encoding: \n",
            "Accuracy: 0.865\n",
            "              precision    recall  f1-score   support\n",
            "\n",
            "           0       0.00      0.00      0.00         3\n",
            "           1       0.85      1.00      0.92        11\n",
            "           2       0.00      0.00      0.00         2\n",
            "           3       1.00      0.89      0.94         9\n",
            "           4       1.00      1.00      1.00         6\n",
            "           5       1.00      0.50      0.67         6\n",
            "           6       1.00      1.00      1.00         7\n",
            "           7       1.00      1.00      1.00         4\n",
            "           8       1.00      0.92      0.96        13\n",
            "           9       1.00      1.00      1.00         5\n",
            "          10       1.00      1.00      1.00         7\n",
            "          11       1.00      0.43      0.60         7\n",
            "          12       0.36      0.83      0.50         6\n",
            "          13       0.90      1.00      0.95         9\n",
            "          14       1.00      0.33      0.50         6\n",
            "          15       0.87      1.00      0.93        13\n",
            "          16       0.57      0.50      0.53         8\n",
            "          17       1.00      1.00      1.00         6\n",
            "          18       1.00      1.00      1.00         4\n",
            "          19       0.62      1.00      0.77         5\n",
            "          20       1.00      1.00      1.00        15\n",
            "          21       1.00      0.40      0.57         5\n",
            "          22       0.92      1.00      0.96        12\n",
            "          23       0.74      1.00      0.85        14\n",
            "          24       1.00      1.00      1.00        10\n",
            "\n",
            "    accuracy                           0.87       193\n",
            "   macro avg       0.83      0.79      0.79       193\n",
            "weighted avg       0.88      0.87      0.85       193\n",
            "\n"
          ],
          "name": "stdout"
        },
        {
          "output_type": "execute_result",
          "data": {
            "text/plain": [
              "0.8652849740932642"
            ]
          },
          "metadata": {
            "tags": []
          },
          "execution_count": 15
        }
      ]
    },
    {
      "cell_type": "code",
      "metadata": {
        "id": "Nyv4-B8zZznR"
      },
      "source": [
        "# Varying the number of features\n",
        "\n",
        "%%capture\n",
        "no_of_features = list(range(50, 500, 10))\n",
        "accuracy = list([naive_bayes_label_encoding(df, max_features=no_of_features[i]) for i in range(len(no_of_features))])\n",
        "\n",
        "maxIndex = accuracy.index(max(accuracy))"
      ],
      "execution_count": null,
      "outputs": []
    },
    {
      "cell_type": "code",
      "metadata": {
        "colab": {
          "base_uri": "https://localhost:8080/",
          "height": 329
        },
        "id": "2b4dTDaDaSor",
        "outputId": "391c16e9-73cd-43ae-b0c9-b91186be5d22"
      },
      "source": [
        "plt.plot(no_of_features, accuracy)\n",
        "plt.xlabel(\"Number Of Features\")\n",
        "plt.ylabel(\"Accuracy Of NB Model\")\n",
        "plt.title(\"Varrying Accuracy with No. Of Features\")\n",
        "plt.show()\n",
        "\n",
        "print(\"Max Accuracy: {%.2f}\"%accuracy[maxIndex])\n",
        "print(\"No. Of Features: {}\".format(no_of_features[maxIndex]))"
      ],
      "execution_count": null,
      "outputs": [
        {
          "output_type": "display_data",
          "data": {
            "image/png": "[encoded data removed]",
            "text/plain": [
              "<Figure size 432x288 with 1 Axes>"
            ]
          },
          "metadata": {
            "tags": [],
            "needs_background": "light"
          }
        },
        {
          "output_type": "stream",
          "text": [
            "Max Accuracy: {0.99}\n",
            "No. Of Features: 450\n"
          ],
          "name": "stdout"
        }
      ]
    },
    {
      "cell_type": "code",
      "metadata": {
        "id": "obsfqN9PaZmN"
      },
      "source": [
        ""
      ],
      "execution_count": null,
      "outputs": []
    }
  ]
}